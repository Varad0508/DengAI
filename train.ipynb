{
 "cells": [
  {
   "cell_type": "code",
   "execution_count": 1,
   "metadata": {},
   "outputs": [],
   "source": [
    "# Importing the modules\n",
    "from glob import glob\n",
    "import pandas as pd\n",
    "import numpy as np\n",
    "from matplotlib import pyplot as plt\n",
    "import seaborn as sns"
   ]
  },
  {
   "cell_type": "markdown",
   "metadata": {},
   "source": [
    "### Getting the list of csv"
   ]
  },
  {
   "cell_type": "code",
   "execution_count": 2,
   "metadata": {
    "scrolled": true
   },
   "outputs": [
    {
     "data": {
      "text/plain": [
       "['dataset/dengue_features_train.csv',\n",
       " 'dataset/dengue_features_test.csv',\n",
       " 'dataset/dengue_labels_train.csv']"
      ]
     },
     "execution_count": 2,
     "metadata": {},
     "output_type": "execute_result"
    }
   ],
   "source": [
    "glob('dataset/*.csv')"
   ]
  },
  {
   "cell_type": "markdown",
   "metadata": {},
   "source": [
    "### Reading the Dataset"
   ]
  },
  {
   "cell_type": "code",
   "execution_count": 3,
   "metadata": {},
   "outputs": [
    {
     "name": "stdout",
     "output_type": "stream",
     "text": [
      "                      Rows     Columns\n",
      "Dengue Features       1456       24\n",
      "Dengue Labels         1456        4\n"
     ]
    }
   ],
   "source": [
    "dengue_features = pd.read_csv('dataset/dengue_features_train.csv')\n",
    "dengue_labels = pd.read_csv('dataset/dengue_labels_train.csv')\n",
    "\n",
    "print('{:>26} {:>11}'.format('Rows', 'Columns'))\n",
    "\n",
    "print('Dengue Features' + '{:>11} {:>8}'.format(dengue_features.shape[0], dengue_features.shape[1]))\n",
    "\n",
    "print('Dengue Labels' + '{:>13} {:>8}'.format(dengue_labels.shape[0], dengue_labels.shape[1]))"
   ]
  },
  {
   "cell_type": "code",
   "execution_count": 4,
   "metadata": {},
   "outputs": [
    {
     "data": {
      "text/html": [
       "<div>\n",
       "<style scoped>\n",
       "    .dataframe tbody tr th:only-of-type {\n",
       "        vertical-align: middle;\n",
       "    }\n",
       "\n",
       "    .dataframe tbody tr th {\n",
       "        vertical-align: top;\n",
       "    }\n",
       "\n",
       "    .dataframe thead th {\n",
       "        text-align: right;\n",
       "    }\n",
       "</style>\n",
       "<table border=\"1\" class=\"dataframe\">\n",
       "  <thead>\n",
       "    <tr style=\"text-align: right;\">\n",
       "      <th></th>\n",
       "      <th>city</th>\n",
       "      <th>year</th>\n",
       "      <th>weekofyear</th>\n",
       "      <th>week_start_date</th>\n",
       "      <th>ndvi_ne</th>\n",
       "      <th>ndvi_nw</th>\n",
       "      <th>ndvi_se</th>\n",
       "      <th>ndvi_sw</th>\n",
       "      <th>precipitation_amt_mm</th>\n",
       "      <th>reanalysis_air_temp_k</th>\n",
       "      <th>...</th>\n",
       "      <th>reanalysis_precip_amt_kg_per_m2</th>\n",
       "      <th>reanalysis_relative_humidity_percent</th>\n",
       "      <th>reanalysis_sat_precip_amt_mm</th>\n",
       "      <th>reanalysis_specific_humidity_g_per_kg</th>\n",
       "      <th>reanalysis_tdtr_k</th>\n",
       "      <th>station_avg_temp_c</th>\n",
       "      <th>station_diur_temp_rng_c</th>\n",
       "      <th>station_max_temp_c</th>\n",
       "      <th>station_min_temp_c</th>\n",
       "      <th>station_precip_mm</th>\n",
       "    </tr>\n",
       "  </thead>\n",
       "  <tbody>\n",
       "    <tr>\n",
       "      <th>0</th>\n",
       "      <td>sj</td>\n",
       "      <td>1990</td>\n",
       "      <td>18</td>\n",
       "      <td>1990-04-30</td>\n",
       "      <td>0.122600</td>\n",
       "      <td>0.103725</td>\n",
       "      <td>0.198483</td>\n",
       "      <td>0.177617</td>\n",
       "      <td>12.42</td>\n",
       "      <td>297.572857</td>\n",
       "      <td>...</td>\n",
       "      <td>32.00</td>\n",
       "      <td>73.365714</td>\n",
       "      <td>12.42</td>\n",
       "      <td>14.012857</td>\n",
       "      <td>2.628571</td>\n",
       "      <td>25.442857</td>\n",
       "      <td>6.900000</td>\n",
       "      <td>29.4</td>\n",
       "      <td>20.0</td>\n",
       "      <td>16.0</td>\n",
       "    </tr>\n",
       "    <tr>\n",
       "      <th>1</th>\n",
       "      <td>sj</td>\n",
       "      <td>1990</td>\n",
       "      <td>19</td>\n",
       "      <td>1990-05-07</td>\n",
       "      <td>0.169900</td>\n",
       "      <td>0.142175</td>\n",
       "      <td>0.162357</td>\n",
       "      <td>0.155486</td>\n",
       "      <td>22.82</td>\n",
       "      <td>298.211429</td>\n",
       "      <td>...</td>\n",
       "      <td>17.94</td>\n",
       "      <td>77.368571</td>\n",
       "      <td>22.82</td>\n",
       "      <td>15.372857</td>\n",
       "      <td>2.371429</td>\n",
       "      <td>26.714286</td>\n",
       "      <td>6.371429</td>\n",
       "      <td>31.7</td>\n",
       "      <td>22.2</td>\n",
       "      <td>8.6</td>\n",
       "    </tr>\n",
       "    <tr>\n",
       "      <th>2</th>\n",
       "      <td>sj</td>\n",
       "      <td>1990</td>\n",
       "      <td>20</td>\n",
       "      <td>1990-05-14</td>\n",
       "      <td>0.032250</td>\n",
       "      <td>0.172967</td>\n",
       "      <td>0.157200</td>\n",
       "      <td>0.170843</td>\n",
       "      <td>34.54</td>\n",
       "      <td>298.781429</td>\n",
       "      <td>...</td>\n",
       "      <td>26.10</td>\n",
       "      <td>82.052857</td>\n",
       "      <td>34.54</td>\n",
       "      <td>16.848571</td>\n",
       "      <td>2.300000</td>\n",
       "      <td>26.714286</td>\n",
       "      <td>6.485714</td>\n",
       "      <td>32.2</td>\n",
       "      <td>22.8</td>\n",
       "      <td>41.4</td>\n",
       "    </tr>\n",
       "    <tr>\n",
       "      <th>3</th>\n",
       "      <td>sj</td>\n",
       "      <td>1990</td>\n",
       "      <td>21</td>\n",
       "      <td>1990-05-21</td>\n",
       "      <td>0.128633</td>\n",
       "      <td>0.245067</td>\n",
       "      <td>0.227557</td>\n",
       "      <td>0.235886</td>\n",
       "      <td>15.36</td>\n",
       "      <td>298.987143</td>\n",
       "      <td>...</td>\n",
       "      <td>13.90</td>\n",
       "      <td>80.337143</td>\n",
       "      <td>15.36</td>\n",
       "      <td>16.672857</td>\n",
       "      <td>2.428571</td>\n",
       "      <td>27.471429</td>\n",
       "      <td>6.771429</td>\n",
       "      <td>33.3</td>\n",
       "      <td>23.3</td>\n",
       "      <td>4.0</td>\n",
       "    </tr>\n",
       "    <tr>\n",
       "      <th>4</th>\n",
       "      <td>sj</td>\n",
       "      <td>1990</td>\n",
       "      <td>22</td>\n",
       "      <td>1990-05-28</td>\n",
       "      <td>0.196200</td>\n",
       "      <td>0.262200</td>\n",
       "      <td>0.251200</td>\n",
       "      <td>0.247340</td>\n",
       "      <td>7.52</td>\n",
       "      <td>299.518571</td>\n",
       "      <td>...</td>\n",
       "      <td>12.20</td>\n",
       "      <td>80.460000</td>\n",
       "      <td>7.52</td>\n",
       "      <td>17.210000</td>\n",
       "      <td>3.014286</td>\n",
       "      <td>28.942857</td>\n",
       "      <td>9.371429</td>\n",
       "      <td>35.0</td>\n",
       "      <td>23.9</td>\n",
       "      <td>5.8</td>\n",
       "    </tr>\n",
       "  </tbody>\n",
       "</table>\n",
       "<p>5 rows × 24 columns</p>\n",
       "</div>"
      ],
      "text/plain": [
       "  city  year  weekofyear week_start_date   ndvi_ne   ndvi_nw   ndvi_se  \\\n",
       "0   sj  1990          18      1990-04-30  0.122600  0.103725  0.198483   \n",
       "1   sj  1990          19      1990-05-07  0.169900  0.142175  0.162357   \n",
       "2   sj  1990          20      1990-05-14  0.032250  0.172967  0.157200   \n",
       "3   sj  1990          21      1990-05-21  0.128633  0.245067  0.227557   \n",
       "4   sj  1990          22      1990-05-28  0.196200  0.262200  0.251200   \n",
       "\n",
       "    ndvi_sw  precipitation_amt_mm  reanalysis_air_temp_k        ...          \\\n",
       "0  0.177617                 12.42             297.572857        ...           \n",
       "1  0.155486                 22.82             298.211429        ...           \n",
       "2  0.170843                 34.54             298.781429        ...           \n",
       "3  0.235886                 15.36             298.987143        ...           \n",
       "4  0.247340                  7.52             299.518571        ...           \n",
       "\n",
       "   reanalysis_precip_amt_kg_per_m2  reanalysis_relative_humidity_percent  \\\n",
       "0                            32.00                             73.365714   \n",
       "1                            17.94                             77.368571   \n",
       "2                            26.10                             82.052857   \n",
       "3                            13.90                             80.337143   \n",
       "4                            12.20                             80.460000   \n",
       "\n",
       "   reanalysis_sat_precip_amt_mm  reanalysis_specific_humidity_g_per_kg  \\\n",
       "0                         12.42                              14.012857   \n",
       "1                         22.82                              15.372857   \n",
       "2                         34.54                              16.848571   \n",
       "3                         15.36                              16.672857   \n",
       "4                          7.52                              17.210000   \n",
       "\n",
       "   reanalysis_tdtr_k  station_avg_temp_c  station_diur_temp_rng_c  \\\n",
       "0           2.628571           25.442857                 6.900000   \n",
       "1           2.371429           26.714286                 6.371429   \n",
       "2           2.300000           26.714286                 6.485714   \n",
       "3           2.428571           27.471429                 6.771429   \n",
       "4           3.014286           28.942857                 9.371429   \n",
       "\n",
       "   station_max_temp_c  station_min_temp_c  station_precip_mm  \n",
       "0                29.4                20.0               16.0  \n",
       "1                31.7                22.2                8.6  \n",
       "2                32.2                22.8               41.4  \n",
       "3                33.3                23.3                4.0  \n",
       "4                35.0                23.9                5.8  \n",
       "\n",
       "[5 rows x 24 columns]"
      ]
     },
     "execution_count": 4,
     "metadata": {},
     "output_type": "execute_result"
    }
   ],
   "source": [
    "dengue_features.head()"
   ]
  },
  {
   "cell_type": "code",
   "execution_count": 5,
   "metadata": {},
   "outputs": [
    {
     "data": {
      "text/html": [
       "<div>\n",
       "<style scoped>\n",
       "    .dataframe tbody tr th:only-of-type {\n",
       "        vertical-align: middle;\n",
       "    }\n",
       "\n",
       "    .dataframe tbody tr th {\n",
       "        vertical-align: top;\n",
       "    }\n",
       "\n",
       "    .dataframe thead th {\n",
       "        text-align: right;\n",
       "    }\n",
       "</style>\n",
       "<table border=\"1\" class=\"dataframe\">\n",
       "  <thead>\n",
       "    <tr style=\"text-align: right;\">\n",
       "      <th></th>\n",
       "      <th>city</th>\n",
       "      <th>year</th>\n",
       "      <th>weekofyear</th>\n",
       "      <th>total_cases</th>\n",
       "    </tr>\n",
       "  </thead>\n",
       "  <tbody>\n",
       "    <tr>\n",
       "      <th>0</th>\n",
       "      <td>sj</td>\n",
       "      <td>1990</td>\n",
       "      <td>18</td>\n",
       "      <td>4</td>\n",
       "    </tr>\n",
       "    <tr>\n",
       "      <th>1</th>\n",
       "      <td>sj</td>\n",
       "      <td>1990</td>\n",
       "      <td>19</td>\n",
       "      <td>5</td>\n",
       "    </tr>\n",
       "    <tr>\n",
       "      <th>2</th>\n",
       "      <td>sj</td>\n",
       "      <td>1990</td>\n",
       "      <td>20</td>\n",
       "      <td>4</td>\n",
       "    </tr>\n",
       "    <tr>\n",
       "      <th>3</th>\n",
       "      <td>sj</td>\n",
       "      <td>1990</td>\n",
       "      <td>21</td>\n",
       "      <td>3</td>\n",
       "    </tr>\n",
       "    <tr>\n",
       "      <th>4</th>\n",
       "      <td>sj</td>\n",
       "      <td>1990</td>\n",
       "      <td>22</td>\n",
       "      <td>6</td>\n",
       "    </tr>\n",
       "  </tbody>\n",
       "</table>\n",
       "</div>"
      ],
      "text/plain": [
       "  city  year  weekofyear  total_cases\n",
       "0   sj  1990          18            4\n",
       "1   sj  1990          19            5\n",
       "2   sj  1990          20            4\n",
       "3   sj  1990          21            3\n",
       "4   sj  1990          22            6"
      ]
     },
     "execution_count": 5,
     "metadata": {},
     "output_type": "execute_result"
    }
   ],
   "source": [
    "dengue_labels.head()"
   ]
  },
  {
   "cell_type": "markdown",
   "metadata": {},
   "source": [
    "### Finding the year that has maximum cases of dengue"
   ]
  },
  {
   "cell_type": "code",
   "execution_count": 6,
   "metadata": {},
   "outputs": [
    {
     "data": {
      "image/png": "[encoded data removed]",
      "text/plain": [
       "<Figure size 432x288 with 1 Axes>"
      ]
     },
     "metadata": {
      "needs_background": "light"
     },
     "output_type": "display_data"
    }
   ],
   "source": [
    "year_max_cases = dengue_labels.groupby(['year'])['total_cases'].agg('sum')\n",
    "\n",
    "#Visualizing it\n",
    "year_max_cases.plot(kind='bar')\n",
    "plt.xlabel('Year')\n",
    "plt.ylabel('Total Cases of Dengue')\n",
    "plt.yticks(np.arange(0,7500, step=500))\n",
    "plt.show()"
   ]
  },
  {
   "cell_type": "markdown",
   "metadata": {},
   "source": [
    "So, Year 1994 faced maximum cases of dengue"
   ]
  },
  {
   "cell_type": "markdown",
   "metadata": {},
   "source": [
    "### City that has maximum cases of dengue"
   ]
  },
  {
   "cell_type": "code",
   "execution_count": 7,
   "metadata": {
    "scrolled": true
   },
   "outputs": [
    {
     "data": {
      "image/png": "[encoded data removed]",
      "text/plain": [
       "<Figure size 432x288 with 1 Axes>"
      ]
     },
     "metadata": {
      "needs_background": "light"
     },
     "output_type": "display_data"
    }
   ],
   "source": [
    "city_affected = dengue_labels.groupby(['city'])['total_cases'].agg('sum')\n",
    "\n",
    "city_affected.plot(kind='bar')\n",
    "plt.xlabel('City')\n",
    "plt.ylabel('Total Cases of Dengue')\n",
    "plt.show()"
   ]
  },
  {
   "cell_type": "markdown",
   "metadata": {},
   "source": [
    "## Data Preprocessing"
   ]
  },
  {
   "cell_type": "markdown",
   "metadata": {},
   "source": [
    "### 1. Checking null entries"
   ]
  },
  {
   "cell_type": "code",
   "execution_count": 8,
   "metadata": {},
   "outputs": [
    {
     "name": "stdout",
     "output_type": "stream",
     "text": [
      "<class 'pandas.core.frame.DataFrame'>\n",
      "RangeIndex: 1456 entries, 0 to 1455\n",
      "Data columns (total 24 columns):\n",
      "city                                     1456 non-null object\n",
      "year                                     1456 non-null int64\n",
      "weekofyear                               1456 non-null int64\n",
      "week_start_date                          1456 non-null object\n",
      "ndvi_ne                                  1262 non-null float64\n",
      "ndvi_nw                                  1404 non-null float64\n",
      "ndvi_se                                  1434 non-null float64\n",
      "ndvi_sw                                  1434 non-null float64\n",
      "precipitation_amt_mm                     1443 non-null float64\n",
      "reanalysis_air_temp_k                    1446 non-null float64\n",
      "reanalysis_avg_temp_k                    1446 non-null float64\n",
      "reanalysis_dew_point_temp_k              1446 non-null float64\n",
      "reanalysis_max_air_temp_k                1446 non-null float64\n",
      "reanalysis_min_air_temp_k                1446 non-null float64\n",
      "reanalysis_precip_amt_kg_per_m2          1446 non-null float64\n",
      "reanalysis_relative_humidity_percent     1446 non-null float64\n",
      "reanalysis_sat_precip_amt_mm             1443 non-null float64\n",
      "reanalysis_specific_humidity_g_per_kg    1446 non-null float64\n",
      "reanalysis_tdtr_k                        1446 non-null float64\n",
      "station_avg_temp_c                       1413 non-null float64\n",
      "station_diur_temp_rng_c                  1413 non-null float64\n",
      "station_max_temp_c                       1436 non-null float64\n",
      "station_min_temp_c                       1442 non-null float64\n",
      "station_precip_mm                        1434 non-null float64\n",
      "dtypes: float64(20), int64(2), object(2)\n",
      "memory usage: 273.1+ KB\n"
     ]
    }
   ],
   "source": [
    "dengue_features.info()"
   ]
  },
  {
   "cell_type": "code",
   "execution_count": 9,
   "metadata": {},
   "outputs": [
    {
     "data": {
      "text/plain": [
       "city                                       0\n",
       "year                                       0\n",
       "weekofyear                                 0\n",
       "week_start_date                            0\n",
       "ndvi_ne                                  194\n",
       "ndvi_nw                                   52\n",
       "ndvi_se                                   22\n",
       "ndvi_sw                                   22\n",
       "precipitation_amt_mm                      13\n",
       "reanalysis_air_temp_k                     10\n",
       "reanalysis_avg_temp_k                     10\n",
       "reanalysis_dew_point_temp_k               10\n",
       "reanalysis_max_air_temp_k                 10\n",
       "reanalysis_min_air_temp_k                 10\n",
       "reanalysis_precip_amt_kg_per_m2           10\n",
       "reanalysis_relative_humidity_percent      10\n",
       "reanalysis_sat_precip_amt_mm              13\n",
       "reanalysis_specific_humidity_g_per_kg     10\n",
       "reanalysis_tdtr_k                         10\n",
       "station_avg_temp_c                        43\n",
       "station_diur_temp_rng_c                   43\n",
       "station_max_temp_c                        20\n",
       "station_min_temp_c                        14\n",
       "station_precip_mm                         22\n",
       "dtype: int64"
      ]
     },
     "execution_count": 9,
     "metadata": {},
     "output_type": "execute_result"
    }
   ],
   "source": [
    "# Checking columns having null values\n",
    "dengue_features.isna().sum()"
   ]
  },
  {
   "cell_type": "code",
   "execution_count": 10,
   "metadata": {},
   "outputs": [
    {
     "data": {
      "text/plain": [
       "['ndvi_ne',\n",
       " 'ndvi_nw',\n",
       " 'ndvi_se',\n",
       " 'ndvi_sw',\n",
       " 'precipitation_amt_mm',\n",
       " 'reanalysis_air_temp_k',\n",
       " 'reanalysis_avg_temp_k',\n",
       " 'reanalysis_dew_point_temp_k',\n",
       " 'reanalysis_max_air_temp_k',\n",
       " 'reanalysis_min_air_temp_k',\n",
       " 'reanalysis_precip_amt_kg_per_m2',\n",
       " 'reanalysis_relative_humidity_percent',\n",
       " 'reanalysis_sat_precip_amt_mm',\n",
       " 'reanalysis_specific_humidity_g_per_kg',\n",
       " 'reanalysis_tdtr_k',\n",
       " 'station_avg_temp_c',\n",
       " 'station_diur_temp_rng_c',\n",
       " 'station_max_temp_c',\n",
       " 'station_min_temp_c',\n",
       " 'station_precip_mm']"
      ]
     },
     "execution_count": 10,
     "metadata": {},
     "output_type": "execute_result"
    }
   ],
   "source": [
    "# Getting the list of columns having missing values\n",
    "x = dengue_features.columns[dengue_features.isna().sum() > 0].tolist()\n",
    "x"
   ]
  },
  {
   "cell_type": "code",
   "execution_count": 11,
   "metadata": {},
   "outputs": [],
   "source": [
    "# Filling the missing value with mean\n",
    "for i in x:\n",
    "    dengue_features[i] = dengue_features[i].fillna(dengue_features[i].mean())"
   ]
  },
  {
   "cell_type": "markdown",
   "metadata": {},
   "source": [
    "#### Converting all the temperatures from Kelvin to Centigrade"
   ]
  },
  {
   "cell_type": "code",
   "execution_count": 12,
   "metadata": {
    "scrolled": true
   },
   "outputs": [
    {
     "data": {
      "text/plain": [
       "['reanalysis_air_temp_k',\n",
       " 'reanalysis_avg_temp_k',\n",
       " 'reanalysis_dew_point_temp_k',\n",
       " 'reanalysis_max_air_temp_k',\n",
       " 'reanalysis_min_air_temp_k']"
      ]
     },
     "execution_count": 12,
     "metadata": {},
     "output_type": "execute_result"
    }
   ],
   "source": [
    "temperature_kelvin_columns = [i for i in dengue_features.columns if i.find('_temp_k') > -1]\n",
    "temperature_kelvin_columns"
   ]
  },
  {
   "cell_type": "code",
   "execution_count": 13,
   "metadata": {
    "scrolled": true
   },
   "outputs": [],
   "source": [
    "for i in temperature_kelvin_columns:\n",
    "    dengue_features[i] = dengue_features[i] - 273.15"
   ]
  },
  {
   "cell_type": "code",
   "execution_count": 14,
   "metadata": {},
   "outputs": [],
   "source": [
    "# Changing the column names from _temp_k to _temp_c\n",
    "dengue_features.columns = [i.replace('_temp_k', '_temp_c') \n",
    "                           for i in dengue_features.columns if i.find('_temp_k')]"
   ]
  },
  {
   "cell_type": "markdown",
   "metadata": {},
   "source": [
    "### 2. Rounding every value upto 3 decimal places"
   ]
  },
  {
   "cell_type": "code",
   "execution_count": 15,
   "metadata": {},
   "outputs": [
    {
     "data": {
      "text/html": [
       "<div>\n",
       "<style scoped>\n",
       "    .dataframe tbody tr th:only-of-type {\n",
       "        vertical-align: middle;\n",
       "    }\n",
       "\n",
       "    .dataframe tbody tr th {\n",
       "        vertical-align: top;\n",
       "    }\n",
       "\n",
       "    .dataframe thead th {\n",
       "        text-align: right;\n",
       "    }\n",
       "</style>\n",
       "<table border=\"1\" class=\"dataframe\">\n",
       "  <thead>\n",
       "    <tr style=\"text-align: right;\">\n",
       "      <th></th>\n",
       "      <th>city</th>\n",
       "      <th>year</th>\n",
       "      <th>weekofyear</th>\n",
       "      <th>week_start_date</th>\n",
       "      <th>ndvi_ne</th>\n",
       "      <th>ndvi_nw</th>\n",
       "      <th>ndvi_se</th>\n",
       "      <th>ndvi_sw</th>\n",
       "      <th>precipitation_amt_mm</th>\n",
       "      <th>reanalysis_air_temp_c</th>\n",
       "      <th>...</th>\n",
       "      <th>reanalysis_precip_amt_kg_per_m2</th>\n",
       "      <th>reanalysis_relative_humidity_percent</th>\n",
       "      <th>reanalysis_sat_precip_amt_mm</th>\n",
       "      <th>reanalysis_specific_humidity_g_per_kg</th>\n",
       "      <th>reanalysis_tdtr_k</th>\n",
       "      <th>station_avg_temp_c</th>\n",
       "      <th>station_diur_temp_rng_c</th>\n",
       "      <th>station_max_temp_c</th>\n",
       "      <th>station_min_temp_c</th>\n",
       "      <th>station_precip_mm</th>\n",
       "    </tr>\n",
       "  </thead>\n",
       "  <tbody>\n",
       "    <tr>\n",
       "      <th>0</th>\n",
       "      <td>sj</td>\n",
       "      <td>1990</td>\n",
       "      <td>18</td>\n",
       "      <td>1990-04-30</td>\n",
       "      <td>0.123</td>\n",
       "      <td>0.104</td>\n",
       "      <td>0.198</td>\n",
       "      <td>0.178</td>\n",
       "      <td>12.42</td>\n",
       "      <td>24.423</td>\n",
       "      <td>...</td>\n",
       "      <td>32.00</td>\n",
       "      <td>73.366</td>\n",
       "      <td>12.42</td>\n",
       "      <td>14.013</td>\n",
       "      <td>2.629</td>\n",
       "      <td>25.443</td>\n",
       "      <td>6.900</td>\n",
       "      <td>29.4</td>\n",
       "      <td>20.0</td>\n",
       "      <td>16.0</td>\n",
       "    </tr>\n",
       "    <tr>\n",
       "      <th>1</th>\n",
       "      <td>sj</td>\n",
       "      <td>1990</td>\n",
       "      <td>19</td>\n",
       "      <td>1990-05-07</td>\n",
       "      <td>0.170</td>\n",
       "      <td>0.142</td>\n",
       "      <td>0.162</td>\n",
       "      <td>0.155</td>\n",
       "      <td>22.82</td>\n",
       "      <td>25.061</td>\n",
       "      <td>...</td>\n",
       "      <td>17.94</td>\n",
       "      <td>77.369</td>\n",
       "      <td>22.82</td>\n",
       "      <td>15.373</td>\n",
       "      <td>2.371</td>\n",
       "      <td>26.714</td>\n",
       "      <td>6.371</td>\n",
       "      <td>31.7</td>\n",
       "      <td>22.2</td>\n",
       "      <td>8.6</td>\n",
       "    </tr>\n",
       "    <tr>\n",
       "      <th>2</th>\n",
       "      <td>sj</td>\n",
       "      <td>1990</td>\n",
       "      <td>20</td>\n",
       "      <td>1990-05-14</td>\n",
       "      <td>0.032</td>\n",
       "      <td>0.173</td>\n",
       "      <td>0.157</td>\n",
       "      <td>0.171</td>\n",
       "      <td>34.54</td>\n",
       "      <td>25.631</td>\n",
       "      <td>...</td>\n",
       "      <td>26.10</td>\n",
       "      <td>82.053</td>\n",
       "      <td>34.54</td>\n",
       "      <td>16.849</td>\n",
       "      <td>2.300</td>\n",
       "      <td>26.714</td>\n",
       "      <td>6.486</td>\n",
       "      <td>32.2</td>\n",
       "      <td>22.8</td>\n",
       "      <td>41.4</td>\n",
       "    </tr>\n",
       "    <tr>\n",
       "      <th>3</th>\n",
       "      <td>sj</td>\n",
       "      <td>1990</td>\n",
       "      <td>21</td>\n",
       "      <td>1990-05-21</td>\n",
       "      <td>0.129</td>\n",
       "      <td>0.245</td>\n",
       "      <td>0.228</td>\n",
       "      <td>0.236</td>\n",
       "      <td>15.36</td>\n",
       "      <td>25.837</td>\n",
       "      <td>...</td>\n",
       "      <td>13.90</td>\n",
       "      <td>80.337</td>\n",
       "      <td>15.36</td>\n",
       "      <td>16.673</td>\n",
       "      <td>2.429</td>\n",
       "      <td>27.471</td>\n",
       "      <td>6.771</td>\n",
       "      <td>33.3</td>\n",
       "      <td>23.3</td>\n",
       "      <td>4.0</td>\n",
       "    </tr>\n",
       "    <tr>\n",
       "      <th>4</th>\n",
       "      <td>sj</td>\n",
       "      <td>1990</td>\n",
       "      <td>22</td>\n",
       "      <td>1990-05-28</td>\n",
       "      <td>0.196</td>\n",
       "      <td>0.262</td>\n",
       "      <td>0.251</td>\n",
       "      <td>0.247</td>\n",
       "      <td>7.52</td>\n",
       "      <td>26.369</td>\n",
       "      <td>...</td>\n",
       "      <td>12.20</td>\n",
       "      <td>80.460</td>\n",
       "      <td>7.52</td>\n",
       "      <td>17.210</td>\n",
       "      <td>3.014</td>\n",
       "      <td>28.943</td>\n",
       "      <td>9.371</td>\n",
       "      <td>35.0</td>\n",
       "      <td>23.9</td>\n",
       "      <td>5.8</td>\n",
       "    </tr>\n",
       "  </tbody>\n",
       "</table>\n",
       "<p>5 rows × 24 columns</p>\n",
       "</div>"
      ],
      "text/plain": [
       "  city  year  weekofyear week_start_date  ndvi_ne  ndvi_nw  ndvi_se  ndvi_sw  \\\n",
       "0   sj  1990          18      1990-04-30    0.123    0.104    0.198    0.178   \n",
       "1   sj  1990          19      1990-05-07    0.170    0.142    0.162    0.155   \n",
       "2   sj  1990          20      1990-05-14    0.032    0.173    0.157    0.171   \n",
       "3   sj  1990          21      1990-05-21    0.129    0.245    0.228    0.236   \n",
       "4   sj  1990          22      1990-05-28    0.196    0.262    0.251    0.247   \n",
       "\n",
       "   precipitation_amt_mm  reanalysis_air_temp_c        ...          \\\n",
       "0                 12.42                 24.423        ...           \n",
       "1                 22.82                 25.061        ...           \n",
       "2                 34.54                 25.631        ...           \n",
       "3                 15.36                 25.837        ...           \n",
       "4                  7.52                 26.369        ...           \n",
       "\n",
       "   reanalysis_precip_amt_kg_per_m2  reanalysis_relative_humidity_percent  \\\n",
       "0                            32.00                                73.366   \n",
       "1                            17.94                                77.369   \n",
       "2                            26.10                                82.053   \n",
       "3                            13.90                                80.337   \n",
       "4                            12.20                                80.460   \n",
       "\n",
       "   reanalysis_sat_precip_amt_mm  reanalysis_specific_humidity_g_per_kg  \\\n",
       "0                         12.42                                 14.013   \n",
       "1                         22.82                                 15.373   \n",
       "2                         34.54                                 16.849   \n",
       "3                         15.36                                 16.673   \n",
       "4                          7.52                                 17.210   \n",
       "\n",
       "   reanalysis_tdtr_k  station_avg_temp_c  station_diur_temp_rng_c  \\\n",
       "0              2.629              25.443                    6.900   \n",
       "1              2.371              26.714                    6.371   \n",
       "2              2.300              26.714                    6.486   \n",
       "3              2.429              27.471                    6.771   \n",
       "4              3.014              28.943                    9.371   \n",
       "\n",
       "   station_max_temp_c  station_min_temp_c  station_precip_mm  \n",
       "0                29.4                20.0               16.0  \n",
       "1                31.7                22.2                8.6  \n",
       "2                32.2                22.8               41.4  \n",
       "3                33.3                23.3                4.0  \n",
       "4                35.0                23.9                5.8  \n",
       "\n",
       "[5 rows x 24 columns]"
      ]
     },
     "execution_count": 15,
     "metadata": {},
     "output_type": "execute_result"
    }
   ],
   "source": [
    "dengue_features = dengue_features.round(3)\n",
    "\n",
    "dengue_features.head()"
   ]
  },
  {
   "cell_type": "code",
   "execution_count": 16,
   "metadata": {
    "scrolled": true
   },
   "outputs": [
    {
     "data": {
      "text/plain": [
       "0    24.70\n",
       "1    26.95\n",
       "2    27.50\n",
       "3    28.30\n",
       "4    29.45\n",
       "Name: avg_max_min_temp, dtype: float64"
      ]
     },
     "execution_count": 16,
     "metadata": {},
     "output_type": "execute_result"
    }
   ],
   "source": [
    "dengue_features['avg_max_min_temp'] = (dengue_features['station_max_temp_c'] + dengue_features['station_min_temp_c']) / 2\n",
    "\n",
    "dengue_features['avg_max_min_temp'].head()"
   ]
  },
  {
   "cell_type": "markdown",
   "metadata": {},
   "source": [
    "#### Combining station_max_temp_c and station_min_temp_c as `avg_station_max_min`"
   ]
  },
  {
   "cell_type": "code",
   "execution_count": 17,
   "metadata": {},
   "outputs": [
    {
     "data": {
      "text/plain": [
       "0    24.70\n",
       "1    26.95\n",
       "2    27.50\n",
       "3    28.30\n",
       "4    29.45\n",
       "Name: avg_station_max_min, dtype: float64"
      ]
     },
     "execution_count": 17,
     "metadata": {},
     "output_type": "execute_result"
    }
   ],
   "source": [
    "dengue_features['avg_station_max_min'] = (dengue_features['station_max_temp_c'] + dengue_features['station_min_temp_c']) / 2\n",
    "\n",
    "dengue_features['avg_station_max_min'].head()"
   ]
  },
  {
   "cell_type": "markdown",
   "metadata": {},
   "source": [
    "#### Combining reanalysis_max_air_temp_c and reanalysis_min_air_temp_c as `avg_analysis_max_min`"
   ]
  },
  {
   "cell_type": "code",
   "execution_count": 18,
   "metadata": {},
   "outputs": [
    {
     "data": {
      "text/plain": [
       "0    24.70\n",
       "1    25.50\n",
       "2    25.75\n",
       "3    26.05\n",
       "4    26.55\n",
       "Name: avg_analysis_max_min, dtype: float64"
      ]
     },
     "execution_count": 18,
     "metadata": {},
     "output_type": "execute_result"
    }
   ],
   "source": [
    "dengue_features['avg_analysis_max_min'] = (dengue_features['reanalysis_max_air_temp_c'] + dengue_features['reanalysis_min_air_temp_c']) / 2\n",
    "\n",
    "dengue_features['avg_analysis_max_min'].head()"
   ]
  },
  {
   "cell_type": "code",
   "execution_count": 19,
   "metadata": {},
   "outputs": [],
   "source": [
    "# Adding total cases\n",
    "dengue_features['total_cases'] = dengue_labels['total_cases']"
   ]
  },
  {
   "cell_type": "code",
   "execution_count": 20,
   "metadata": {},
   "outputs": [
    {
     "data": {
      "text/html": [
       "<div>\n",
       "<style scoped>\n",
       "    .dataframe tbody tr th:only-of-type {\n",
       "        vertical-align: middle;\n",
       "    }\n",
       "\n",
       "    .dataframe tbody tr th {\n",
       "        vertical-align: top;\n",
       "    }\n",
       "\n",
       "    .dataframe thead th {\n",
       "        text-align: right;\n",
       "    }\n",
       "</style>\n",
       "<table border=\"1\" class=\"dataframe\">\n",
       "  <thead>\n",
       "    <tr style=\"text-align: right;\">\n",
       "      <th></th>\n",
       "      <th>year</th>\n",
       "      <th>weekofyear</th>\n",
       "      <th>ndvi_ne</th>\n",
       "      <th>ndvi_nw</th>\n",
       "      <th>ndvi_se</th>\n",
       "      <th>ndvi_sw</th>\n",
       "      <th>precipitation_amt_mm</th>\n",
       "      <th>reanalysis_air_temp_c</th>\n",
       "      <th>reanalysis_avg_temp_c</th>\n",
       "      <th>reanalysis_dew_point_temp_c</th>\n",
       "      <th>...</th>\n",
       "      <th>reanalysis_tdtr_k</th>\n",
       "      <th>station_avg_temp_c</th>\n",
       "      <th>station_diur_temp_rng_c</th>\n",
       "      <th>station_max_temp_c</th>\n",
       "      <th>station_min_temp_c</th>\n",
       "      <th>station_precip_mm</th>\n",
       "      <th>avg_max_min_temp</th>\n",
       "      <th>avg_station_max_min</th>\n",
       "      <th>avg_analysis_max_min</th>\n",
       "      <th>total_cases</th>\n",
       "    </tr>\n",
       "  </thead>\n",
       "  <tbody>\n",
       "    <tr>\n",
       "      <th>count</th>\n",
       "      <td>1456.000000</td>\n",
       "      <td>1456.000000</td>\n",
       "      <td>1456.000000</td>\n",
       "      <td>1456.000000</td>\n",
       "      <td>1456.000000</td>\n",
       "      <td>1456.000000</td>\n",
       "      <td>1456.000000</td>\n",
       "      <td>1456.000000</td>\n",
       "      <td>1456.000000</td>\n",
       "      <td>1456.000000</td>\n",
       "      <td>...</td>\n",
       "      <td>1456.000000</td>\n",
       "      <td>1456.000000</td>\n",
       "      <td>1456.000000</td>\n",
       "      <td>1456.000000</td>\n",
       "      <td>1456.000000</td>\n",
       "      <td>1456.000000</td>\n",
       "      <td>1456.000000</td>\n",
       "      <td>1456.000000</td>\n",
       "      <td>1456.000000</td>\n",
       "      <td>1456.000000</td>\n",
       "    </tr>\n",
       "    <tr>\n",
       "      <th>mean</th>\n",
       "      <td>2001.031593</td>\n",
       "      <td>26.503434</td>\n",
       "      <td>0.142249</td>\n",
       "      <td>0.130568</td>\n",
       "      <td>0.203781</td>\n",
       "      <td>0.202295</td>\n",
       "      <td>45.760385</td>\n",
       "      <td>25.551865</td>\n",
       "      <td>26.075588</td>\n",
       "      <td>22.096353</td>\n",
       "      <td>...</td>\n",
       "      <td>4.903755</td>\n",
       "      <td>27.185795</td>\n",
       "      <td>8.059324</td>\n",
       "      <td>32.452431</td>\n",
       "      <td>22.102148</td>\n",
       "      <td>39.326354</td>\n",
       "      <td>27.277290</td>\n",
       "      <td>27.277290</td>\n",
       "      <td>26.423132</td>\n",
       "      <td>24.675137</td>\n",
       "    </tr>\n",
       "    <tr>\n",
       "      <th>std</th>\n",
       "      <td>5.408314</td>\n",
       "      <td>15.019437</td>\n",
       "      <td>0.130830</td>\n",
       "      <td>0.117844</td>\n",
       "      <td>0.073299</td>\n",
       "      <td>0.083268</td>\n",
       "      <td>43.519806</td>\n",
       "      <td>1.357720</td>\n",
       "      <td>1.257382</td>\n",
       "      <td>1.522545</td>\n",
       "      <td>...</td>\n",
       "      <td>3.534244</td>\n",
       "      <td>1.273107</td>\n",
       "      <td>2.096867</td>\n",
       "      <td>1.945806</td>\n",
       "      <td>1.566475</td>\n",
       "      <td>47.095179</td>\n",
       "      <td>1.331498</td>\n",
       "      <td>1.331498</td>\n",
       "      <td>1.325096</td>\n",
       "      <td>43.596000</td>\n",
       "    </tr>\n",
       "    <tr>\n",
       "      <th>min</th>\n",
       "      <td>1990.000000</td>\n",
       "      <td>1.000000</td>\n",
       "      <td>-0.406000</td>\n",
       "      <td>-0.456000</td>\n",
       "      <td>-0.016000</td>\n",
       "      <td>-0.063000</td>\n",
       "      <td>0.000000</td>\n",
       "      <td>21.486000</td>\n",
       "      <td>21.743000</td>\n",
       "      <td>16.493000</td>\n",
       "      <td>...</td>\n",
       "      <td>1.357000</td>\n",
       "      <td>21.400000</td>\n",
       "      <td>4.529000</td>\n",
       "      <td>26.700000</td>\n",
       "      <td>14.700000</td>\n",
       "      <td>0.000000</td>\n",
       "      <td>22.800000</td>\n",
       "      <td>22.800000</td>\n",
       "      <td>22.650000</td>\n",
       "      <td>0.000000</td>\n",
       "    </tr>\n",
       "    <tr>\n",
       "      <th>25%</th>\n",
       "      <td>1997.000000</td>\n",
       "      <td>13.750000</td>\n",
       "      <td>0.055750</td>\n",
       "      <td>0.051000</td>\n",
       "      <td>0.156000</td>\n",
       "      <td>0.145000</td>\n",
       "      <td>9.960000</td>\n",
       "      <td>24.515250</td>\n",
       "      <td>25.114000</td>\n",
       "      <td>20.980500</td>\n",
       "      <td>...</td>\n",
       "      <td>2.329000</td>\n",
       "      <td>26.329000</td>\n",
       "      <td>6.529000</td>\n",
       "      <td>31.100000</td>\n",
       "      <td>21.100000</td>\n",
       "      <td>8.850000</td>\n",
       "      <td>26.400000</td>\n",
       "      <td>26.400000</td>\n",
       "      <td>25.400000</td>\n",
       "      <td>5.000000</td>\n",
       "    </tr>\n",
       "    <tr>\n",
       "      <th>50%</th>\n",
       "      <td>2002.000000</td>\n",
       "      <td>26.500000</td>\n",
       "      <td>0.142000</td>\n",
       "      <td>0.128000</td>\n",
       "      <td>0.197000</td>\n",
       "      <td>0.191000</td>\n",
       "      <td>38.710000</td>\n",
       "      <td>25.512000</td>\n",
       "      <td>26.117500</td>\n",
       "      <td>22.476000</td>\n",
       "      <td>...</td>\n",
       "      <td>2.864000</td>\n",
       "      <td>27.386000</td>\n",
       "      <td>7.386000</td>\n",
       "      <td>32.800000</td>\n",
       "      <td>22.200000</td>\n",
       "      <td>24.450000</td>\n",
       "      <td>27.500000</td>\n",
       "      <td>27.500000</td>\n",
       "      <td>26.500000</td>\n",
       "      <td>12.000000</td>\n",
       "    </tr>\n",
       "    <tr>\n",
       "      <th>75%</th>\n",
       "      <td>2005.000000</td>\n",
       "      <td>39.250000</td>\n",
       "      <td>0.229250</td>\n",
       "      <td>0.212250</td>\n",
       "      <td>0.247000</td>\n",
       "      <td>0.246250</td>\n",
       "      <td>70.047500</td>\n",
       "      <td>26.677500</td>\n",
       "      <td>27.057000</td>\n",
       "      <td>23.306250</td>\n",
       "      <td>...</td>\n",
       "      <td>7.553750</td>\n",
       "      <td>28.129000</td>\n",
       "      <td>9.500000</td>\n",
       "      <td>33.900000</td>\n",
       "      <td>23.300000</td>\n",
       "      <td>53.600000</td>\n",
       "      <td>28.300000</td>\n",
       "      <td>28.300000</td>\n",
       "      <td>27.400000</td>\n",
       "      <td>28.000000</td>\n",
       "    </tr>\n",
       "    <tr>\n",
       "      <th>max</th>\n",
       "      <td>2010.000000</td>\n",
       "      <td>53.000000</td>\n",
       "      <td>0.508000</td>\n",
       "      <td>0.454000</td>\n",
       "      <td>0.538000</td>\n",
       "      <td>0.546000</td>\n",
       "      <td>390.600000</td>\n",
       "      <td>29.050000</td>\n",
       "      <td>29.779000</td>\n",
       "      <td>25.300000</td>\n",
       "      <td>...</td>\n",
       "      <td>16.029000</td>\n",
       "      <td>30.800000</td>\n",
       "      <td>15.800000</td>\n",
       "      <td>42.200000</td>\n",
       "      <td>25.600000</td>\n",
       "      <td>543.300000</td>\n",
       "      <td>32.000000</td>\n",
       "      <td>32.000000</td>\n",
       "      <td>31.250000</td>\n",
       "      <td>461.000000</td>\n",
       "    </tr>\n",
       "  </tbody>\n",
       "</table>\n",
       "<p>8 rows × 26 columns</p>\n",
       "</div>"
      ],
      "text/plain": [
       "              year   weekofyear      ndvi_ne      ndvi_nw      ndvi_se  \\\n",
       "count  1456.000000  1456.000000  1456.000000  1456.000000  1456.000000   \n",
       "mean   2001.031593    26.503434     0.142249     0.130568     0.203781   \n",
       "std       5.408314    15.019437     0.130830     0.117844     0.073299   \n",
       "min    1990.000000     1.000000    -0.406000    -0.456000    -0.016000   \n",
       "25%    1997.000000    13.750000     0.055750     0.051000     0.156000   \n",
       "50%    2002.000000    26.500000     0.142000     0.128000     0.197000   \n",
       "75%    2005.000000    39.250000     0.229250     0.212250     0.247000   \n",
       "max    2010.000000    53.000000     0.508000     0.454000     0.538000   \n",
       "\n",
       "           ndvi_sw  precipitation_amt_mm  reanalysis_air_temp_c  \\\n",
       "count  1456.000000           1456.000000            1456.000000   \n",
       "mean      0.202295             45.760385              25.551865   \n",
       "std       0.083268             43.519806               1.357720   \n",
       "min      -0.063000              0.000000              21.486000   \n",
       "25%       0.145000              9.960000              24.515250   \n",
       "50%       0.191000             38.710000              25.512000   \n",
       "75%       0.246250             70.047500              26.677500   \n",
       "max       0.546000            390.600000              29.050000   \n",
       "\n",
       "       reanalysis_avg_temp_c  reanalysis_dew_point_temp_c     ...       \\\n",
       "count            1456.000000                  1456.000000     ...        \n",
       "mean               26.075588                    22.096353     ...        \n",
       "std                 1.257382                     1.522545     ...        \n",
       "min                21.743000                    16.493000     ...        \n",
       "25%                25.114000                    20.980500     ...        \n",
       "50%                26.117500                    22.476000     ...        \n",
       "75%                27.057000                    23.306250     ...        \n",
       "max                29.779000                    25.300000     ...        \n",
       "\n",
       "       reanalysis_tdtr_k  station_avg_temp_c  station_diur_temp_rng_c  \\\n",
       "count        1456.000000         1456.000000              1456.000000   \n",
       "mean            4.903755           27.185795                 8.059324   \n",
       "std             3.534244            1.273107                 2.096867   \n",
       "min             1.357000           21.400000                 4.529000   \n",
       "25%             2.329000           26.329000                 6.529000   \n",
       "50%             2.864000           27.386000                 7.386000   \n",
       "75%             7.553750           28.129000                 9.500000   \n",
       "max            16.029000           30.800000                15.800000   \n",
       "\n",
       "       station_max_temp_c  station_min_temp_c  station_precip_mm  \\\n",
       "count         1456.000000         1456.000000        1456.000000   \n",
       "mean            32.452431           22.102148          39.326354   \n",
       "std              1.945806            1.566475          47.095179   \n",
       "min             26.700000           14.700000           0.000000   \n",
       "25%             31.100000           21.100000           8.850000   \n",
       "50%             32.800000           22.200000          24.450000   \n",
       "75%             33.900000           23.300000          53.600000   \n",
       "max             42.200000           25.600000         543.300000   \n",
       "\n",
       "       avg_max_min_temp  avg_station_max_min  avg_analysis_max_min  \\\n",
       "count       1456.000000          1456.000000           1456.000000   \n",
       "mean          27.277290            27.277290             26.423132   \n",
       "std            1.331498             1.331498              1.325096   \n",
       "min           22.800000            22.800000             22.650000   \n",
       "25%           26.400000            26.400000             25.400000   \n",
       "50%           27.500000            27.500000             26.500000   \n",
       "75%           28.300000            28.300000             27.400000   \n",
       "max           32.000000            32.000000             31.250000   \n",
       "\n",
       "       total_cases  \n",
       "count  1456.000000  \n",
       "mean     24.675137  \n",
       "std      43.596000  \n",
       "min       0.000000  \n",
       "25%       5.000000  \n",
       "50%      12.000000  \n",
       "75%      28.000000  \n",
       "max     461.000000  \n",
       "\n",
       "[8 rows x 26 columns]"
      ]
     },
     "execution_count": 20,
     "metadata": {},
     "output_type": "execute_result"
    }
   ],
   "source": [
    "# Summary statistics\n",
    "dengue_features.describe()"
   ]
  },
  {
   "cell_type": "markdown",
   "metadata": {},
   "source": [
    "## Exploratory Data Analysis"
   ]
  },
  {
   "cell_type": "code",
   "execution_count": 36,
   "metadata": {},
   "outputs": [],
   "source": [
    "# Setting plot size\n",
    "plt.rcParams['figure.figsize'] = [10, 8]"
   ]
  },
  {
   "cell_type": "code",
   "execution_count": 51,
   "metadata": {},
   "outputs": [
    {
     "data": {
      "image/png": "[encoded data removed]",
      "text/plain": [
       "<Figure size 720x576 with 1 Axes>"
      ]
     },
     "metadata": {
      "needs_background": "light"
     },
     "output_type": "display_data"
    }
   ],
   "source": [
    "plt.plot(dengue_features[x[0]], dengue_features['total_cases'], \n",
    "         marker='.', linestyle='none', color='green')\n",
    "plt.xlabel(x[0])\n",
    "plt.ylabel('total cases')\n",
    "plt.legend()\n",
    "plt.show()"
   ]
  },
  {
   "cell_type": "code",
   "execution_count": 50,
   "metadata": {},
   "outputs": [
    {
     "data": {
      "image/png": "[encoded data removed]",
      "text/plain": [
       "<Figure size 720x576 with 1 Axes>"
      ]
     },
     "metadata": {
      "needs_background": "light"
     },
     "output_type": "display_data"
    }
   ],
   "source": [
    "plt.plot(dengue_features[x[1]], dengue_features['total_cases'], \n",
    "         marker='.', linestyle='none', color='green')\n",
    "plt.xlabel(x[1])\n",
    "plt.ylabel('total cases')\n",
    "plt.legend()\n",
    "plt.show()"
   ]
  },
  {
   "cell_type": "code",
   "execution_count": 49,
   "metadata": {},
   "outputs": [
    {
     "data": {
      "image/png": "[encoded data removed]",
      "text/plain": [
       "<Figure size 720x576 with 1 Axes>"
      ]
     },
     "metadata": {
      "needs_background": "light"
     },
     "output_type": "display_data"
    }
   ],
   "source": [
    "plt.plot(dengue_features[x[2]], dengue_features['total_cases'], \n",
    "         marker='.', linestyle='none', color='green')\n",
    "plt.xlabel(x[2])\n",
    "plt.ylabel('total cases')\n",
    "plt.legend()\n",
    "plt.show()"
   ]
  },
  {
   "cell_type": "code",
   "execution_count": 48,
   "metadata": {},
   "outputs": [
    {
     "data": {
      "image/png": "[encoded data removed]",
      "text/plain": [
       "<Figure size 720x576 with 1 Axes>"
      ]
     },
     "metadata": {
      "needs_background": "light"
     },
     "output_type": "display_data"
    }
   ],
   "source": [
    "plt.plot(dengue_features[x[3]], dengue_features['total_cases'], \n",
    "         marker='.', linestyle='none', color='green')\n",
    "plt.xlabel(x[3])\n",
    "plt.ylabel('total cases')\n",
    "plt.legend()\n",
    "plt.show()"
   ]
  },
  {
   "cell_type": "code",
   "execution_count": 47,
   "metadata": {},
   "outputs": [
    {
     "data": {
      "image/png": "[encoded data removed]",
      "text/plain": [
       "<Figure size 720x576 with 1 Axes>"
      ]
     },
     "metadata": {
      "needs_background": "light"
     },
     "output_type": "display_data"
    }
   ],
   "source": [
    "plt.plot(dengue_features[x[4]], dengue_features['total_cases'], \n",
    "         marker='.', linestyle='none', color='green')\n",
    "plt.xlabel(x[4])\n",
    "plt.ylabel('total cases')\n",
    "plt.legend()\n",
    "plt.show()"
   ]
  },
  {
   "cell_type": "code",
   "execution_count": 41,
   "metadata": {},
   "outputs": [
    {
     "data": {
      "text/plain": [
       "['ndvi_ne',\n",
       " 'ndvi_nw',\n",
       " 'ndvi_se',\n",
       " 'ndvi_sw',\n",
       " 'precipitation_amt_mm',\n",
       " 'reanalysis_air_temp_k',\n",
       " 'reanalysis_avg_temp_k',\n",
       " 'reanalysis_dew_point_temp_k',\n",
       " 'reanalysis_max_air_temp_k',\n",
       " 'reanalysis_min_air_temp_k',\n",
       " 'reanalysis_precip_amt_kg_per_m2',\n",
       " 'reanalysis_relative_humidity_percent',\n",
       " 'reanalysis_sat_precip_amt_mm',\n",
       " 'reanalysis_specific_humidity_g_per_kg',\n",
       " 'reanalysis_tdtr_k',\n",
       " 'station_avg_temp_c',\n",
       " 'station_diur_temp_rng_c',\n",
       " 'station_max_temp_c',\n",
       " 'station_min_temp_c',\n",
       " 'station_precip_mm']"
      ]
     },
     "execution_count": 41,
     "metadata": {},
     "output_type": "execute_result"
    }
   ],
   "source": [
    "x"
   ]
  },
  {
   "cell_type": "markdown",
   "metadata": {},
   "source": [
    "### 3. The dengue cases of San Juan `sj`  and Iquitos `iq` are not dependent. So splitting them into different DataFrames"
   ]
  },
  {
   "cell_type": "code",
   "execution_count": null,
   "metadata": {},
   "outputs": [],
   "source": [
    "X_sj = dengue_features[dengue_features['city'] == 'sj']\n",
    "X_iq = dengue_features[dengue_features['city'] == 'iq']"
   ]
  },
  {
   "cell_type": "code",
   "execution_count": null,
   "metadata": {},
   "outputs": [],
   "source": [
    "X_sj = X_sj.drop(['city', 'weekofyear', 'week_start_date'], axis=1)\n",
    "X_iq = X_iq.drop(['city', 'weekofyear', 'week_start_date'], axis=1)"
   ]
  },
  {
   "cell_type": "code",
   "execution_count": null,
   "metadata": {},
   "outputs": [],
   "source": [
    "one_hot_sj = pd.get_dummies(X_sj['year'])\n",
    "X_sj = X_sj.drop('year', axis=1)\n",
    "X_sj = X_sj.join(one_hot_sj)"
   ]
  },
  {
   "cell_type": "code",
   "execution_count": null,
   "metadata": {},
   "outputs": [],
   "source": [
    "one_hot_iq = pd.get_dummies(X_iq['year'])\n",
    "X_iq = X_iq.drop('year', axis=1)\n",
    "X_iq = X_iq.join(one_hot_iq)"
   ]
  },
  {
   "cell_type": "markdown",
   "metadata": {},
   "source": [
    "### 4. Changing the order of columns in X_sj and X_iq DataFrames"
   ]
  },
  {
   "cell_type": "code",
   "execution_count": null,
   "metadata": {},
   "outputs": [],
   "source": [
    "years = X_sj.columns[:23:-1].values.tolist()\n",
    "X_sj = X_sj[years[::-1]].join(X_sj[X_sj.columns[:24]])\n",
    "X_sj.head()"
   ]
  },
  {
   "cell_type": "code",
   "execution_count": null,
   "metadata": {
    "scrolled": true
   },
   "outputs": [],
   "source": [
    "years = X_iq.columns[:23:-1].values.tolist()\n",
    "X_iq = X_iq[years[::-1]].join(X_iq[X_iq.columns[:24]])\n",
    "X_iq.head()"
   ]
  },
  {
   "cell_type": "code",
   "execution_count": null,
   "metadata": {},
   "outputs": [],
   "source": [
    "# Removing dummy variable trap\n",
    "X_sj = X_sj.drop(1990, axis=1)\n",
    "X_iq = X_iq.drop(2000, axis=1)"
   ]
  },
  {
   "cell_type": "code",
   "execution_count": null,
   "metadata": {},
   "outputs": [],
   "source": [
    "x_sj_arr = X_sj.iloc[:].values\n",
    "x_iq_arr = X_iq.iloc[:].values"
   ]
  },
  {
   "cell_type": "code",
   "execution_count": null,
   "metadata": {},
   "outputs": [],
   "source": [
    "# np.random.seed(23)\n",
    "np.random.shuffle(x_sj_arr)\n",
    "np.random.shuffle(x_iq_arr)"
   ]
  },
  {
   "cell_type": "markdown",
   "metadata": {},
   "source": [
    "### 5. Splitting the dataframes into train and test"
   ]
  },
  {
   "cell_type": "code",
   "execution_count": null,
   "metadata": {},
   "outputs": [],
   "source": [
    "from sklearn.model_selection import train_test_split\n",
    "\n",
    "X_sj_train, X_sj_test, y_sj_train, y_sj_test = train_test_split(x_sj_arr[:, :-1], x_sj_arr[:, -1], test_size=0.2)\n",
    "X_iq_train, X_iq_test, y_iq_train, y_iq_test = train_test_split(x_iq_arr[:, :-1], x_iq_arr[:, -1], test_size=0.2)"
   ]
  },
  {
   "cell_type": "markdown",
   "metadata": {},
   "source": [
    "### 6. Applying Feature Scaling"
   ]
  },
  {
   "cell_type": "code",
   "execution_count": null,
   "metadata": {},
   "outputs": [],
   "source": [
    "from sklearn.preprocessing import StandardScaler\n",
    "\n",
    "sj_scaler = StandardScaler()\n",
    "X_sj_train = sj_scaler.fit_transform(X_sj_train)\n",
    "X_sj_test = sj_scaler.transform(X_sj_test)"
   ]
  },
  {
   "cell_type": "code",
   "execution_count": null,
   "metadata": {},
   "outputs": [],
   "source": [
    "plt.plot(X_sj_train, y_sj_train, marker='.', color='green', linestyle='none')\n",
    "plt.show()"
   ]
  },
  {
   "cell_type": "markdown",
   "metadata": {},
   "source": [
    "### Time for modelling"
   ]
  },
  {
   "cell_type": "code",
   "execution_count": null,
   "metadata": {},
   "outputs": [],
   "source": [
    "from sklearn.neighbors import KNeighborsRegressor\n",
    "\n",
    "sj_knn = KNeighborsRegressor(n_neighbors=5)\n",
    "\n",
    "sj_knn.fit(X_sj_train, y_sj_train)"
   ]
  },
  {
   "cell_type": "code",
   "execution_count": null,
   "metadata": {},
   "outputs": [],
   "source": [
    "y_sj_pred = sj_knn.predict(X_sj_test)"
   ]
  },
  {
   "cell_type": "code",
   "execution_count": null,
   "metadata": {},
   "outputs": [],
   "source": [
    "from sklearn.metrics import mean_absolute_error\n",
    "\n",
    "print(mean_absolute_error(y_sj_test, y_sj_pred))"
   ]
  },
  {
   "cell_type": "code",
   "execution_count": null,
   "metadata": {},
   "outputs": [],
   "source": [
    "iq_scaler = StandardScaler()\n",
    "X_iq_train = iq_scaler.fit_transform(X_iq_train)\n",
    "X_iq_test = iq_scaler.transform(X_iq_test)"
   ]
  },
  {
   "cell_type": "code",
   "execution_count": null,
   "metadata": {},
   "outputs": [],
   "source": [
    "iq_knn = KNeighborsRegressor(n_neighbors=5)\n",
    "\n",
    "iq_knn.fit(X_iq_train, y_iq_train)"
   ]
  },
  {
   "cell_type": "code",
   "execution_count": null,
   "metadata": {},
   "outputs": [],
   "source": [
    "y_iq_pred = iq_knn.predict(X_iq_test)"
   ]
  },
  {
   "cell_type": "code",
   "execution_count": null,
   "metadata": {},
   "outputs": [],
   "source": [
    "print(mean_absolute_error(y_iq_test, y_iq_pred))"
   ]
  },
  {
   "cell_type": "code",
   "execution_count": null,
   "metadata": {},
   "outputs": [],
   "source": [
    "from sklearn.ensemble import RandomForestRegressor\n",
    "\n",
    "sj_ada = RandomForestRegressor(n_estimators=50, max_depth=15)\n",
    "sj_ada.fit(X_sj_train, y_sj_train)\n",
    "\n",
    "y_sj_pred = sj_ada.predict(X_sj_test)\n",
    "\n",
    "mean_absolute_error(y_sj_test, y_sj_pred)"
   ]
  },
  {
   "cell_type": "code",
   "execution_count": null,
   "metadata": {},
   "outputs": [],
   "source": [
    "iq_ada = RandomForestRegressor(n_estimators=50, max_depth=15)\n",
    "iq_ada.fit(X_iq_train, y_iq_train)\n",
    "\n",
    "y_iq_pred = iq_ada.predict(X_iq_test)\n",
    "\n",
    "mean_absolute_error(y_iq_test, y_iq_pred)"
   ]
  },
  {
   "cell_type": "markdown",
   "metadata": {},
   "source": [
    "### Tuning the hyperparameter"
   ]
  },
  {
   "cell_type": "code",
   "execution_count": null,
   "metadata": {},
   "outputs": [],
   "source": [
    "from sklearn.model_selection import GridSearchCV\n",
    "\n",
    "knn_parameters = [{'algorithm':['ball_tree'], 'leaf_size':[25]},\n",
    "                  {'algorithm':['kd_tree'], 'leaf_size':[25]},\n",
    "                  {'algorithm':['brute']}]\n",
    "\n",
    "sj_knn_grid_cv = GridSearchCV(estimator=sj_knn, param_grid=knn_parameters,\n",
    "                              scoring='neg_mean_absolute_error', cv=5)"
   ]
  },
  {
   "cell_type": "code",
   "execution_count": null,
   "metadata": {},
   "outputs": [],
   "source": [
    "sj_knn_grid_cv = sj_knn_grid_cv.fit(X_sj_train, y_sj_train)\n",
    "\n",
    "# sj_knn_grid_cv.predict(X_sj_test)\n",
    "\n",
    "# mean_absolute_error(y_sj_test, sj_knn_grid_cv.predict(X_sj_test))\n",
    "print(sj_knn_grid_cv.best_score_)\n",
    "print(sj_knn_grid_cv.best_params_)"
   ]
  }
 ],
 "metadata": {
  "kernelspec": {
   "display_name": "Python 3",
   "language": "python",
   "name": "python3"
  },
  "language_info": {
   "codemirror_mode": {
    "name": "ipython",
    "version": 3
   },
   "file_extension": ".py",
   "mimetype": "text/x-python",
   "name": "python",
   "nbconvert_exporter": "python",
   "pygments_lexer": "ipython3",
   "version": "3.6.6"
  }
 },
 "nbformat": 4,
 "nbformat_minor": 1
}
